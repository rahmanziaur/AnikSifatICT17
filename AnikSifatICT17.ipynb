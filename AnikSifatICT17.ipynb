{
  "nbformat": 4,
  "nbformat_minor": 0,
  "metadata": {
    "colab": {
      "provenance": [],
      "mount_file_id": "1km60bLpAlLG__64tVPwjWNAS8cOM6xEs",
      "authorship_tag": "ABX9TyPFhSZ6SlRzEvPlECSKLoTa",
      "include_colab_link": true
    },
    "kernelspec": {
      "name": "python3",
      "display_name": "Python 3"
    },
    "language_info": {
      "name": "python"
    }
  },
  "cells": [
    {
      "cell_type": "markdown",
      "metadata": {
        "id": "view-in-github",
        "colab_type": "text"
      },
      "source": [
        "<a href=\"https://colab.research.google.com/github/rahmanziaur/AnikSifatICT17/blob/main/AnikSifatICT17.ipynb\" target=\"_parent\"><img src=\"https://colab.research.google.com/assets/colab-badge.svg\" alt=\"Open In Colab\"/></a>"
      ]
    },
    {
      "cell_type": "markdown",
      "source": [
        "**Learning Crawler**: https://www.zenrows.com/blog/web-crawler-python#initial-crawling-script"
      ],
      "metadata": {
        "id": "R0n9jAncz5s6"
      }
    },
    {
      "cell_type": "code",
      "execution_count": 2,
      "metadata": {
        "colab": {
          "base_uri": "https://localhost:8080/"
        },
        "id": "u8hm4z1Xzl2j",
        "outputId": "92fa12ef-75e0-43aa-a879-081bd5e276b4"
      },
      "outputs": [
        {
          "output_type": "stream",
          "name": "stdout",
          "text": [
            "mkdir: cannot create directory ‘web-crawler’: File exists\n"
          ]
        }
      ],
      "source": [
        "mkdir web-crawler"
      ]
    }
  ]
}