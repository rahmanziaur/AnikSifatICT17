{
  "nbformat": 4,
  "nbformat_minor": 0,
  "metadata": {
    "colab": {
      "provenance": [],
      "mount_file_id": "1km60bLpAlLG__64tVPwjWNAS8cOM6xEs",
      "authorship_tag": "ABX9TyNiy2KnAknH93SXY6loSTBy",
      "include_colab_link": true
    },
    "kernelspec": {
      "name": "python3",
      "display_name": "Python 3"
    },
    "language_info": {
      "name": "python"
    }
  },
  "cells": [
    {
      "cell_type": "markdown",
      "metadata": {
        "id": "view-in-github",
        "colab_type": "text"
      },
      "source": [
        "<a href=\"https://colab.research.google.com/github/rahmanziaur/AnikSifatICT17/blob/main/AnikSifatICT17.ipynb\" target=\"_parent\"><img src=\"https://colab.research.google.com/assets/colab-badge.svg\" alt=\"Open In Colab\"/></a>"
      ]
    },
    {
      "cell_type": "markdown",
      "source": [
        "**Learning Crawler**: https://www.zenrows.com/blog/web-crawler-python#initial-crawling-script"
      ],
      "metadata": {
        "id": "R0n9jAncz5s6"
      }
    },
    {
      "cell_type": "code",
      "execution_count": 1,
      "metadata": {
        "id": "u8hm4z1Xzl2j"
      },
      "outputs": [],
      "source": [
        "mkdir web-crawler"
      ]
    },
    {
      "cell_type": "code",
      "source": [
        "cd web-crawler"
      ],
      "metadata": {
        "id": "ZXn2evTs1VBB",
        "outputId": "f56f68b1-d9ff-40b2-a27a-3db70bc4500b",
        "colab": {
          "base_uri": "https://localhost:8080/"
        }
      },
      "execution_count": 2,
      "outputs": [
        {
          "output_type": "stream",
          "name": "stdout",
          "text": [
            "/content/web-crawler\n"
          ]
        }
      ]
    },
    {
      "cell_type": "code",
      "source": [],
      "metadata": {
        "id": "eIvwnm-J1X_W"
      },
      "execution_count": null,
      "outputs": []
    }
  ]
}